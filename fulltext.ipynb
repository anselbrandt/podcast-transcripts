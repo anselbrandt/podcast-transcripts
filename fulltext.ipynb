{
 "cells": [
  {
   "cell_type": "code",
   "execution_count": 2,
   "metadata": {},
   "outputs": [],
   "source": [
    "import os\n",
    "from transcriptTools import getTranscriptFiles, transcript_to_srt, reindex\n",
    "from diarize import srt_to_transcript\n",
    "\n",
    "ROOT = os.getcwd()\n",
    "\n",
    "transcriptDir = os.path.join(ROOT, \"labeled\")\n",
    "files = getTranscriptFiles(transcriptDir)\n",
    "\n",
    "fulltextDir = os.path.join(ROOT, \"fulltext\")\n",
    "os.makedirs(fulltextDir, exist_ok=True)\n",
    "os.makedirs(os.path.join(fulltextDir, \"rotl\"), exist_ok=True)"
   ]
  },
  {
   "cell_type": "code",
   "execution_count": 13,
   "metadata": {},
   "outputs": [],
   "source": [
    "for file in files:\n",
    "    filepath, showname, filename = file\n",
    "    transcript = srt_to_transcript(filepath)\n",
    "    lines = [\n",
    "        f\"{speaker}: {speech}\"\n",
    "        for idx, start, end, speaker, speech in transcript\n",
    "        if speech\n",
    "    ]\n",
    "    outpath = os.path.join(fulltextDir, \"rotl\", filename.replace(\".srt\", \".txt\"))\n",
    "    f = open(outpath, \"w\")\n",
    "    f.write(\"\\n\".join(lines))\n",
    "    f.close()"
   ]
  }
 ],
 "metadata": {
  "kernelspec": {
   "display_name": "transcribe",
   "language": "python",
   "name": "python3"
  },
  "language_info": {
   "codemirror_mode": {
    "name": "ipython",
    "version": 3
   },
   "file_extension": ".py",
   "mimetype": "text/x-python",
   "name": "python",
   "nbconvert_exporter": "python",
   "pygments_lexer": "ipython3",
   "version": "3.12.7"
  }
 },
 "nbformat": 4,
 "nbformat_minor": 2
}
