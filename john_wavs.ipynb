{
 "cells": [
  {
   "cell_type": "code",
   "execution_count": 3,
   "metadata": {},
   "outputs": [],
   "source": [
    "import os\n",
    "import shutil\n",
    "from diarize import (\n",
    "    srt_to_transcript,\n",
    "    split_waveform_filenames,\n",
    "    split_waveform_speechmaps,\n",
    "    split_waveform_filenames_JSON,\n",
    ")\n",
    "from transcriptTools import getTranscriptFiles, transcript_to_srt, reverseLookupJohn\n",
    "\n",
    "ROOT = os.getcwd()\n",
    "\n",
    "transcriptDir = os.path.join(ROOT, \"johnTranscripts\")\n",
    "\n",
    "files = getTranscriptFiles(transcriptDir)\n",
    "\n",
    "reversedLabels = reverseLookupJohn(\"speaker_labels.csv\")\n",
    "\n",
    "jsonDir = os.path.join(ROOT, \"json\")\n",
    "os.makedirs(jsonDir, exist_ok=True)\n",
    "os.makedirs(os.path.join(jsonDir, \"rotl\"), exist_ok=True)\n",
    "os.makedirs(os.path.join(jsonDir, \"roadwork\"), exist_ok=True)"
   ]
  },
  {
   "cell_type": "code",
   "execution_count": 9,
   "metadata": {},
   "outputs": [],
   "source": [
    "speechmapDir = os.path.join(ROOT, \"speechmaps\")\n",
    "os.makedirs(jsonDir, exist_ok=True)\n",
    "os.makedirs(os.path.join(speechmapDir, \"rotl\"), exist_ok=True)\n",
    "os.makedirs(os.path.join(speechmapDir, \"roadwork\"), exist_ok=True)\n",
    "\n",
    "for file in files:\n",
    "    filepath, showname, filename = file\n",
    "    episode = filename.split(\"_-_\")[0]\n",
    "    transcript = srt_to_transcript(filepath)\n",
    "    unlabeledSpeaker = reversedLabels[showname][episode]\n",
    "    unlabeled = [\n",
    "        (idx, start, end, unlabeledSpeaker, speech)\n",
    "        for idx, start, end, speaker, speech in transcript\n",
    "    ]\n",
    "    outpath = os.path.join(\n",
    "        ROOT, \"speechmaps\", showname, filename.replace(\".srt\", \".txt\")\n",
    "    )\n",
    "    speechmap = split_waveform_speechmaps(\n",
    "        os.path.join(\"audio\", showname, episode, filename.replace(\".srt\", \".wav\")),\n",
    "        unlabeled,\n",
    "        showname,\n",
    "        episode,\n",
    "    )\n",
    "    f = open(outpath, \"w\")\n",
    "    f.write(\"\\n\".join(speechmap))\n",
    "    f.close()"
   ]
  },
  {
   "cell_type": "code",
   "execution_count": 6,
   "metadata": {},
   "outputs": [],
   "source": [
    "for file in files:\n",
    "    filepath, showname, filename = file\n",
    "    episode = filename.split(\"_-_\")[0]\n",
    "    transcript = srt_to_transcript(filepath)\n",
    "    unlabeledSpeaker = reversedLabels[showname][episode]\n",
    "    unlabeled = [\n",
    "        (idx, start, end, unlabeledSpeaker, speech)\n",
    "        for idx, start, end, speaker, speech in transcript\n",
    "    ]\n",
    "    outpath = os.path.join(ROOT, \"json\", showname, filename.replace(\".srt\", \".json\"))\n",
    "    json = split_waveform_filenames_JSON(\n",
    "        os.path.join(\"audio\", showname, episode, filename.replace(\".srt\", \".wav\")),\n",
    "        unlabeled,\n",
    "        showname,\n",
    "        episode,\n",
    "    )\n",
    "    f = open(outpath, \"w\")\n",
    "    f.write(json)\n",
    "    f.close()"
   ]
  },
  {
   "cell_type": "code",
   "execution_count": 15,
   "metadata": {},
   "outputs": [],
   "source": [
    "johnWavDir = os.path.join(ROOT, \"johnWavs\")\n",
    "os.makedirs(johnWavDir, exist_ok=True)\n",
    "os.makedirs(os.path.join(johnWavDir, \"rotl\"), exist_ok=True)\n",
    "os.makedirs(os.path.join(johnWavDir, \"roadwork\"), exist_ok=True)\n",
    "\n",
    "for file in files:\n",
    "    filepath, showname, filename = file\n",
    "    episode = filename.split(\"_-_\")[0]\n",
    "    os.makedirs(os.path.join(johnWavDir, showname, episode), exist_ok=True)\n",
    "    transcript = srt_to_transcript(filepath)\n",
    "    unlabeledSpeaker = reversedLabels[showname][episode]\n",
    "    unlabeled = [\n",
    "        (idx, start, end, unlabeledSpeaker, speech)\n",
    "        for idx, start, end, speaker, speech in transcript\n",
    "    ]\n",
    "    wavfiles = split_waveform_filenames(\n",
    "        os.path.join(ROOT, \"split_wavs\", showname, episode),\n",
    "        unlabeled,\n",
    "        showname,\n",
    "        episode,\n",
    "    )\n",
    "    for wavfile in wavfiles:\n",
    "        outpath = wavfile.replace(\"split_wavs\", \"johnWavs\")\n",
    "        shutil.copyfile(wavfile, outpath)"
   ]
  }
 ],
 "metadata": {
  "kernelspec": {
   "display_name": "speech",
   "language": "python",
   "name": "python3"
  },
  "language_info": {
   "codemirror_mode": {
    "name": "ipython",
    "version": 3
   },
   "file_extension": ".py",
   "mimetype": "text/x-python",
   "name": "python",
   "nbconvert_exporter": "python",
   "pygments_lexer": "ipython3",
   "version": "3.12.3"
  }
 },
 "nbformat": 4,
 "nbformat_minor": 2
}
