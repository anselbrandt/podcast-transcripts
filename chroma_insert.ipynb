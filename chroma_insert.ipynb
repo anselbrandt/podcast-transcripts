{
 "cells": [
  {
   "cell_type": "code",
   "execution_count": 2,
   "metadata": {},
   "outputs": [],
   "source": [
    "# pip install chromadb sentence-transformers\n",
    "import chromadb\n",
    "from chromadb.utils import embedding_functions\n",
    "\n",
    "sentence_transformer_ef = embedding_functions.SentenceTransformerEmbeddingFunction(\n",
    "    model_name=\"all-mpnet-base-v2\", device=\"cuda\"\n",
    ")\n",
    "\n",
    "chroma_client = chromadb.PersistentClient(path=\"/home/ansel/chromadb\")\n",
    "collection = chroma_client.get_collection(\n",
    "    name=\"roderick\", embedding_function=sentence_transformer_ef\n",
    ")"
   ]
  },
  {
   "cell_type": "code",
   "execution_count": 3,
   "metadata": {},
   "outputs": [],
   "source": [
    "import os\n",
    "from transcriptTools import datesDict, titlesDict\n",
    "\n",
    "ROOT = os.getcwd()\n",
    "\n",
    "rotl_titles = titlesDict(\"rotl_titles.txt\")\n",
    "rotl_dates = datesDict(\"rotl_dates.txt\")\n",
    "roadwork_titles = titlesDict(\"roadwork_titles.txt\")\n",
    "roadwork_dates = datesDict(\"roadwork_dates.txt\")"
   ]
  },
  {
   "cell_type": "code",
   "execution_count": 4,
   "metadata": {},
   "outputs": [],
   "source": [
    "chunkedDir = os.path.join(ROOT, \"chunked\")\n",
    "dirs = [(os.path.join(chunkedDir, dir), dir) for dir in sorted(os.listdir(chunkedDir))]\n",
    "\n",
    "files = [\n",
    "    (os.path.join(dir, file), showname, file.split(\"_-_\")[0], file)\n",
    "    for dir, showname in dirs\n",
    "    for file in sorted(os.listdir(dir))\n",
    "]"
   ]
  },
  {
   "cell_type": "code",
   "execution_count": 5,
   "metadata": {},
   "outputs": [],
   "source": [
    "for file in files:\n",
    "    filepath, showname, episode, filename = file\n",
    "    chunks = open(filepath, encoding=\"utf-8\").read().split(\"\\n\\n\")\n",
    "    podcast = \"Roderick on the Line\" if showname == \"rotl\" else \"Roadwork\"\n",
    "    hosts = (\n",
    "        \"John Roderick and Merlin Mann\"\n",
    "        if showname == \"rotl\"\n",
    "        else \"John Roderick and Dan Benjamin\"\n",
    "    )\n",
    "\n",
    "    documents = chunks\n",
    "    metadatas = [\n",
    "        {\n",
    "            \"podcast\": podcast,\n",
    "            \"hosts\": hosts,\n",
    "            \"episode\": episode,\n",
    "            \"title\": rotl_titles[episode],\n",
    "            \"date\": rotl_dates[episode],\n",
    "        }\n",
    "        for idx in enumerate(chunks)\n",
    "    ]\n",
    "    ids = [f\"{showname}_{episode}_{idx}\" for idx, chunk in enumerate(chunks)]\n",
    "    collection.add(documents=documents, metadatas=metadatas, ids=ids)"
   ]
  }
 ],
 "metadata": {
  "kernelspec": {
   "display_name": "transcribe",
   "language": "python",
   "name": "python3"
  },
  "language_info": {
   "codemirror_mode": {
    "name": "ipython",
    "version": 3
   },
   "file_extension": ".py",
   "mimetype": "text/x-python",
   "name": "python",
   "nbconvert_exporter": "python",
   "pygments_lexer": "ipython3",
   "version": "3.12.7"
  }
 },
 "nbformat": 4,
 "nbformat_minor": 2
}
