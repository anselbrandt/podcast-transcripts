{
 "cells": [
  {
   "cell_type": "code",
   "execution_count": 1,
   "metadata": {},
   "outputs": [
    {
     "name": "stderr",
     "output_type": "stream",
     "text": [
      "/home/ansel/.pyenv/versions/3.12.7/envs/transcribe/lib/python3.12/site-packages/sentence_transformers/cross_encoder/CrossEncoder.py:13: TqdmExperimentalWarning: Using `tqdm.autonotebook.tqdm` in notebook mode. Use `tqdm.tqdm` instead to force console mode (e.g. in jupyter console)\n",
      "  from tqdm.autonotebook import tqdm, trange\n"
     ]
    },
    {
     "data": {
      "application/vnd.jupyter.widget-view+json": {
       "model_id": "02b8b74b52fe4e409404e6b3d2aba6ee",
       "version_major": 2,
       "version_minor": 0
      },
      "text/plain": [
       "modules.json:   0%|          | 0.00/349 [00:00<?, ?B/s]"
      ]
     },
     "metadata": {},
     "output_type": "display_data"
    },
    {
     "data": {
      "application/vnd.jupyter.widget-view+json": {
       "model_id": "a792d79a7baf42f2ad1183209215c4b6",
       "version_major": 2,
       "version_minor": 0
      },
      "text/plain": [
       "config_sentence_transformers.json:   0%|          | 0.00/116 [00:00<?, ?B/s]"
      ]
     },
     "metadata": {},
     "output_type": "display_data"
    },
    {
     "data": {
      "application/vnd.jupyter.widget-view+json": {
       "model_id": "5f1e8623950c4461b199499025a022f5",
       "version_major": 2,
       "version_minor": 0
      },
      "text/plain": [
       "README.md:   0%|          | 0.00/10.6k [00:00<?, ?B/s]"
      ]
     },
     "metadata": {},
     "output_type": "display_data"
    },
    {
     "data": {
      "application/vnd.jupyter.widget-view+json": {
       "model_id": "67321b7460f24fb1b1302aee8a8fd1cb",
       "version_major": 2,
       "version_minor": 0
      },
      "text/plain": [
       "sentence_bert_config.json:   0%|          | 0.00/53.0 [00:00<?, ?B/s]"
      ]
     },
     "metadata": {},
     "output_type": "display_data"
    },
    {
     "data": {
      "application/vnd.jupyter.widget-view+json": {
       "model_id": "e263915dc82042eaa19d7ab85a866724",
       "version_major": 2,
       "version_minor": 0
      },
      "text/plain": [
       "config.json:   0%|          | 0.00/571 [00:00<?, ?B/s]"
      ]
     },
     "metadata": {},
     "output_type": "display_data"
    },
    {
     "data": {
      "application/vnd.jupyter.widget-view+json": {
       "model_id": "8925029aca2049b6a5e2545848e8d2cc",
       "version_major": 2,
       "version_minor": 0
      },
      "text/plain": [
       "model.safetensors:   0%|          | 0.00/438M [00:00<?, ?B/s]"
      ]
     },
     "metadata": {},
     "output_type": "display_data"
    },
    {
     "data": {
      "application/vnd.jupyter.widget-view+json": {
       "model_id": "f4b23a326ef445b89f3b55cdf204d6f4",
       "version_major": 2,
       "version_minor": 0
      },
      "text/plain": [
       "tokenizer_config.json:   0%|          | 0.00/363 [00:00<?, ?B/s]"
      ]
     },
     "metadata": {},
     "output_type": "display_data"
    },
    {
     "data": {
      "application/vnd.jupyter.widget-view+json": {
       "model_id": "649696a3607d4c4f8a9e06cb6831cf56",
       "version_major": 2,
       "version_minor": 0
      },
      "text/plain": [
       "vocab.txt:   0%|          | 0.00/232k [00:00<?, ?B/s]"
      ]
     },
     "metadata": {},
     "output_type": "display_data"
    },
    {
     "data": {
      "application/vnd.jupyter.widget-view+json": {
       "model_id": "a870aabde9944983b39acb2e211bf4ba",
       "version_major": 2,
       "version_minor": 0
      },
      "text/plain": [
       "tokenizer.json:   0%|          | 0.00/466k [00:00<?, ?B/s]"
      ]
     },
     "metadata": {},
     "output_type": "display_data"
    },
    {
     "data": {
      "application/vnd.jupyter.widget-view+json": {
       "model_id": "cacd0d731f3c4111bc7fa373518031e8",
       "version_major": 2,
       "version_minor": 0
      },
      "text/plain": [
       "special_tokens_map.json:   0%|          | 0.00/239 [00:00<?, ?B/s]"
      ]
     },
     "metadata": {},
     "output_type": "display_data"
    },
    {
     "data": {
      "application/vnd.jupyter.widget-view+json": {
       "model_id": "b603490a37ba4a6e859a70807f566737",
       "version_major": 2,
       "version_minor": 0
      },
      "text/plain": [
       "1_Pooling/config.json:   0%|          | 0.00/190 [00:00<?, ?B/s]"
      ]
     },
     "metadata": {},
     "output_type": "display_data"
    }
   ],
   "source": [
    "# pip install chromadb sentence-transformers\n",
    "import chromadb\n",
    "from chromadb.utils import embedding_functions\n",
    "\n",
    "sentence_transformer_ef = embedding_functions.SentenceTransformerEmbeddingFunction(\n",
    "    model_name=\"all-mpnet-base-v2\", device=\"cuda\"\n",
    ")\n",
    "\n",
    "chroma_client = chromadb.PersistentClient(path=\"/home/ansel/chromadb\")\n",
    "\n",
    "try:\n",
    "    collection = chroma_client.get_collection(\n",
    "        name=\"roderick\", embedding_function=sentence_transformer_ef\n",
    "    )\n",
    "except:\n",
    "    collection = chroma_client.create_collection(\n",
    "        name=\"roderick\", embedding_function=sentence_transformer_ef\n",
    "    )"
   ]
  },
  {
   "cell_type": "code",
   "execution_count": 2,
   "metadata": {},
   "outputs": [
    {
     "data": {
      "application/vnd.jupyter.widget-view+json": {
       "model_id": "75b133cd2f134bf5b7469b51942f3f4b",
       "version_major": 2,
       "version_minor": 0
      },
      "text/plain": [
       "(…)peakerverification_en_titanet_large.nemo:   0%|          | 0.00/102M [00:00<?, ?B/s]"
      ]
     },
     "metadata": {},
     "output_type": "display_data"
    }
   ],
   "source": [
    "import os\n",
    "from transcriptTools import datesDict, titlesDict\n",
    "\n",
    "ROOT = os.getcwd()\n",
    "\n",
    "rotl_titles = titlesDict(\"rotl_titles.txt\")\n",
    "rotl_dates = datesDict(\"rotl_dates.txt\")\n",
    "roadwork_titles = titlesDict(\"roadwork_titles.txt\")\n",
    "roadwork_dates = datesDict(\"roadwork_dates.txt\")"
   ]
  },
  {
   "cell_type": "code",
   "execution_count": 3,
   "metadata": {},
   "outputs": [],
   "source": [
    "chunkedDir = os.path.join(ROOT, \"chunked\")\n",
    "dirs = [(os.path.join(chunkedDir, dir), dir) for dir in sorted(os.listdir(chunkedDir))]\n",
    "\n",
    "files = [\n",
    "    (os.path.join(dir, file), showname, file.split(\"_-_\")[0], file)\n",
    "    for dir, showname in dirs\n",
    "    for file in sorted(os.listdir(dir))\n",
    "]"
   ]
  },
  {
   "cell_type": "code",
   "execution_count": 4,
   "metadata": {},
   "outputs": [],
   "source": [
    "for file in files:\n",
    "    filepath, showname, episode, filename = file\n",
    "    chunks = open(filepath, encoding=\"utf-8\").read().split(\"\\n\\n\")\n",
    "    podcast = \"Roderick on the Line\" if showname == \"rotl\" else \"Roadwork\"\n",
    "    hosts = (\n",
    "        \"John Roderick and Merlin Mann\"\n",
    "        if showname == \"rotl\"\n",
    "        else \"John Roderick and Dan Benjamin\"\n",
    "    )\n",
    "\n",
    "    documents = chunks\n",
    "    metadatas = [\n",
    "        {\n",
    "            \"podcast\": podcast,\n",
    "            \"hosts\": hosts,\n",
    "            \"episode\": episode,\n",
    "            \"title\": rotl_titles[episode],\n",
    "            \"date\": rotl_dates[episode],\n",
    "        }\n",
    "        for idx in enumerate(chunks)\n",
    "    ]\n",
    "    ids = [f\"{showname}_{episode}_{idx}\" for idx, chunk in enumerate(chunks)]\n",
    "    collection.add(documents=documents, metadatas=metadatas, ids=ids)"
   ]
  }
 ],
 "metadata": {
  "kernelspec": {
   "display_name": "transcribe",
   "language": "python",
   "name": "python3"
  },
  "language_info": {
   "codemirror_mode": {
    "name": "ipython",
    "version": 3
   },
   "file_extension": ".py",
   "mimetype": "text/x-python",
   "name": "python",
   "nbconvert_exporter": "python",
   "pygments_lexer": "ipython3",
   "version": "3.12.7"
  }
 },
 "nbformat": 4,
 "nbformat_minor": 2
}
