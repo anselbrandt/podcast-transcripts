{
 "cells": [
  {
   "cell_type": "code",
   "execution_count": 2,
   "metadata": {},
   "outputs": [],
   "source": [
    "import os\n",
    "from diarize import srt_to_transcript\n",
    "from transcriptTools import speakerLabels, getTranscriptFiles, transcript_to_srt\n",
    "\n",
    "ROOT = os.getcwd()\n",
    "\n",
    "transcriptDir = os.path.join(ROOT, \"transcripts\")"
   ]
  },
  {
   "cell_type": "code",
   "execution_count": 3,
   "metadata": {},
   "outputs": [],
   "source": [
    "files = getTranscriptFiles(transcriptDir)"
   ]
  },
  {
   "cell_type": "code",
   "execution_count": 4,
   "metadata": {},
   "outputs": [],
   "source": [
    "labels = speakerLabels(\"speaker_labels.csv\")\n",
    "\n",
    "for filepath, showname, filename in files:\n",
    "    episode = filename.split(\"_-_\")[0]\n",
    "    transcript = srt_to_transcript(filepath)\n",
    "    labeled = [\n",
    "        (idx, start, end, labels[showname][episode][speaker], line)\n",
    "        for idx, start, end, speaker, line in transcript\n",
    "    ]\n",
    "    srt = transcript_to_srt(labeled)\n",
    "    outpath = os.path.join(ROOT, \"labeled\", showname, filename)\n",
    "    f = open(outpath, \"w\")\n",
    "    f.write(srt)\n",
    "    f.close()"
   ]
  }
 ],
 "metadata": {
  "kernelspec": {
   "display_name": "speech",
   "language": "python",
   "name": "python3"
  },
  "language_info": {
   "codemirror_mode": {
    "name": "ipython",
    "version": 3
   },
   "file_extension": ".py",
   "mimetype": "text/x-python",
   "name": "python",
   "nbconvert_exporter": "python",
   "pygments_lexer": "ipython3",
   "version": "3.12.3"
  }
 },
 "nbformat": 4,
 "nbformat_minor": 2
}
