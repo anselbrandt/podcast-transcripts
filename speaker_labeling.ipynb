{
 "cells": [
  {
   "cell_type": "code",
   "execution_count": null,
   "metadata": {},
   "outputs": [],
   "source": [
    "import os\n",
    "from diarize import srt_to_transcript\n",
    "from transcriptTools import (\n",
    "    loadSpeakerLabels,\n",
    "    transcript_to_srt,\n",
    ")\n",
    "from speakerTools import (\n",
    "    getReferenceLabel,\n",
    "    getSpeakerLabels,\n",
    ")\n",
    "\n",
    "ROOT = os.getcwd()\n",
    "\n",
    "reference = os.path.join(ROOT, \"john.wav\")\n",
    "codedlabels = loadSpeakerLabels(\"speaker_labels.csv\")\n",
    "\n",
    "transcriptsDir = os.path.join(ROOT, \"transcripts\")\n",
    "wavsDir = os.path.join(ROOT, \"split_wavs\")\n",
    "\n",
    "transcriptFiles = [\n",
    "    (\n",
    "        os.path.join(transcriptsDir, showname, filename),\n",
    "        showname,\n",
    "        filename.split(\"_-_\")[0],\n",
    "        filename,\n",
    "    )\n",
    "    for showname in sorted(os.listdir(transcriptsDir))\n",
    "    for filename in sorted(os.listdir(os.path.join(transcriptsDir, showname)))\n",
    "]\n",
    "\n",
    "hosts = {\"rotl\": (\"John\", \"Merlin\"), \"roadwork\": (\"John\", \"Dan\")}"
   ]
  },
  {
   "cell_type": "code",
   "execution_count": null,
   "metadata": {},
   "outputs": [],
   "source": [
    "labeledDir = os.path.join(ROOT, \"labeled\")\n",
    "os.makedirs(labeledDir, exist_ok=True)\n",
    "os.makedirs(os.path.join(labeledDir, \"rotl\"), exist_ok=True)\n",
    "os.makedirs(os.path.join(labeledDir, \"roadwork\"), exist_ok=True)\n",
    "\n",
    "mislabeled = []\n",
    "\n",
    "for filepath, showname, episode, filename in transcriptFiles:\n",
    "    showDir = os.path.join(wavsDir, showname, episode)\n",
    "    wavFiles = [os.path.join(showDir, file) for file in os.listdir(showDir)]\n",
    "    referenceLabel = getReferenceLabel(reference, wavFiles)\n",
    "    inferredLabels = getSpeakerLabels(referenceLabel, hosts[showname])\n",
    "    isMatch = True if codedlabels[showname][episode] == inferredLabels else False\n",
    "    if not isMatch:\n",
    "        print(f\"{showname} - {episode}\")\n",
    "        mislabeled.append(f\"{showname} - {episode}\")\n",
    "    transcript = srt_to_transcript(filepath)\n",
    "    labeled = [\n",
    "        (idx, start, end, inferredLabels[speaker], speech)\n",
    "        for idx, start, end, speaker, speech in transcript\n",
    "    ]\n",
    "    srt = transcript_to_srt(labeled)\n",
    "    outpath = os.path.join(labeledDir, showname, filename)\n",
    "    f = open(outpath, \"w\")\n",
    "    f.write(srt)\n",
    "    f.close()\n",
    "f = open(\"mislabeled.txt\", \"w\")\n",
    "f.write(\"\\n\".join(mislabeled))\n",
    "f.close()"
   ]
  }
 ],
 "metadata": {
  "kernelspec": {
   "display_name": "transcribe",
   "language": "python",
   "name": "python3"
  },
  "language_info": {
   "codemirror_mode": {
    "name": "ipython",
    "version": 3
   },
   "file_extension": ".py",
   "mimetype": "text/x-python",
   "name": "python",
   "nbconvert_exporter": "python",
   "pygments_lexer": "ipython3",
   "version": "3.12.7"
  }
 },
 "nbformat": 4,
 "nbformat_minor": 2
}
