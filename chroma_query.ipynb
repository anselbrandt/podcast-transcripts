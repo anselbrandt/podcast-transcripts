{
 "cells": [
  {
   "cell_type": "code",
   "execution_count": 2,
   "metadata": {},
   "outputs": [
    {
     "name": "stderr",
     "output_type": "stream",
     "text": [
      "INFO:speechbrain.utils.quirks:Applied quirks (see `speechbrain.utils.quirks`): [disable_jit_profiling, allow_tf32]\n",
      "INFO:speechbrain.utils.quirks:Excluded quirks specified by the `SB_DISABLE_QUIRKS` environment (comma-separated list): []\n",
      "INFO:datasets:PyTorch version 2.3.0 available.\n",
      "INFO:chromadb.telemetry.product.posthog:Anonymized telemetry enabled. See                     https://docs.trychroma.com/telemetry for more information.\n",
      "INFO:sentence_transformers.SentenceTransformer:Load pretrained SentenceTransformer: all-mpnet-base-v2\n"
     ]
    }
   ],
   "source": [
    "import chromadb\n",
    "from chromadb.utils import embedding_functions\n",
    "import platform\n",
    "from diarize import token_count\n",
    "\n",
    "platform.platform()\n",
    "\n",
    "path = (\n",
    "    \"/Users/ansel/chromadb\"\n",
    "    if \"macOS\" in platform.platform()\n",
    "    else \"/home/ansel/chromadb\"\n",
    ")\n",
    "\n",
    "chroma_client = chromadb.PersistentClient(path=path)\n",
    "sentence_transformer_ef = embedding_functions.SentenceTransformerEmbeddingFunction(\n",
    "    model_name=\"all-mpnet-base-v2\"\n",
    ")\n",
    "\n",
    "collection = chroma_client.get_collection(\n",
    "    name=\"roderick\", embedding_function=sentence_transformer_ef\n",
    ")"
   ]
  },
  {
   "cell_type": "code",
   "execution_count": 15,
   "metadata": {},
   "outputs": [
    {
     "data": {
      "application/vnd.jupyter.widget-view+json": {
       "model_id": "eeb7615de49a4610ba225ea0a251d42a",
       "version_major": 2,
       "version_minor": 0
      },
      "text/plain": [
       "Batches:   0%|          | 0/1 [00:00<?, ?it/s]"
      ]
     },
     "metadata": {},
     "output_type": "display_data"
    },
    {
     "data": {
      "text/plain": [
       "6290"
      ]
     },
     "execution_count": 15,
     "metadata": {},
     "output_type": "execute_result"
    }
   ],
   "source": [
    "raw_results = collection.query(\n",
    "    query_texts=[\"What does John Roderick think about donuts?\"],\n",
    "    n_results=30,\n",
    "    include=[\"documents\", \"metadatas\"],\n",
    ")\n",
    "\n",
    "results = list(zip(raw_results[\"metadatas\"][0], raw_results[\"documents\"][0]))\n",
    "\n",
    "formatted_results = [\n",
    "    f\"{metadata[\"podcast\"]} - {metadata[\"title\"]}, {metadata[\"date\"]}\\n\\n{document}\"\n",
    "    for metadata, document in results\n",
    "]\n",
    "\n",
    "text = \"\\n\\n\".join(formatted_results)\n",
    "\n",
    "context_input = (\n",
    "    \"Based on the following podcast excerpts, what does John Roderick think about donuts? Formlate your response in the voice of John Roderick.\"\n",
    "    + \"\\n\\n\"\n",
    "    + text\n",
    ")\n",
    "\n",
    "f = open(\"question_donuts_extended.txt\", \"w\")\n",
    "f.write(context_input)\n",
    "f.close()\n",
    "\n",
    "count = token_count(context_input)\n",
    "\n",
    "count"
   ]
  }
 ],
 "metadata": {
  "kernelspec": {
   "display_name": "transcribe",
   "language": "python",
   "name": "python3"
  },
  "language_info": {
   "codemirror_mode": {
    "name": "ipython",
    "version": 3
   },
   "file_extension": ".py",
   "mimetype": "text/x-python",
   "name": "python",
   "nbconvert_exporter": "python",
   "pygments_lexer": "ipython3",
   "version": "3.12.7"
  }
 },
 "nbformat": 4,
 "nbformat_minor": 2
}
