{
 "cells": [
  {
   "cell_type": "code",
   "execution_count": 1,
   "metadata": {},
   "outputs": [],
   "source": [
    "import chromadb\n",
    "from chromadb.utils import embedding_functions\n",
    "import platform\n",
    "from diarize import token_count\n",
    "\n",
    "platform.platform()\n",
    "\n",
    "path = (\n",
    "    \"/Users/ansel/chromadb\"\n",
    "    if \"macOS\" in platform.platform()\n",
    "    else \"/home/ansel/chromadb\"\n",
    ")\n",
    "\n",
    "chroma_client = chromadb.PersistentClient(path=path)\n",
    "sentence_transformer_ef = embedding_functions.SentenceTransformerEmbeddingFunction(\n",
    "    model_name=\"all-mpnet-base-v2\"\n",
    ")\n",
    "\n",
    "collection = chroma_client.get_collection(\n",
    "    name=\"roderick\", embedding_function=sentence_transformer_ef\n",
    ")"
   ]
  },
  {
   "cell_type": "code",
   "execution_count": 3,
   "metadata": {},
   "outputs": [
    {
     "data": {
      "text/plain": [
       "3188"
      ]
     },
     "execution_count": 3,
     "metadata": {},
     "output_type": "execute_result"
    }
   ],
   "source": [
    "raw_results = collection.query(\n",
    "    query_texts=[\"What does John Roderick think about liberalism?\"],\n",
    "    n_results=10,\n",
    "    include=[\"documents\", \"metadatas\"],\n",
    ")\n",
    "\n",
    "results = list(zip(raw_results['metadatas'][0], raw_results[\"documents\"][0]))\n",
    "\n",
    "formatted_results = [\n",
    "    f\"{metadata[\"podcast\"]} - {metadata[\"title\"]}, {metadata[\"date\"]}\\n\\n{document}\"\n",
    "    for metadata, document in results\n",
    "]\n",
    "\n",
    "text = \"\\n\\n\".join(formatted_results)\n",
    "\n",
    "context_input = \"Based on the following podcast excerpts, what does John Roderick think about liberalistm? Formlate your response in the voice of John Roderick.\"+\"\\n\\n\" + text\n",
    "\n",
    "f = open('question.txt', 'w')\n",
    "f.write(context_input)\n",
    "f.close()\n",
    "\n",
    "count = token_count(context_input)\n",
    "\n",
    "count"
   ]
  }
 ],
 "metadata": {
  "kernelspec": {
   "display_name": "chroma",
   "language": "python",
   "name": "python3"
  },
  "language_info": {
   "codemirror_mode": {
    "name": "ipython",
    "version": 3
   },
   "file_extension": ".py",
   "mimetype": "text/x-python",
   "name": "python",
   "nbconvert_exporter": "python",
   "pygments_lexer": "ipython3",
   "version": "3.12.3"
  }
 },
 "nbformat": 4,
 "nbformat_minor": 2
}
